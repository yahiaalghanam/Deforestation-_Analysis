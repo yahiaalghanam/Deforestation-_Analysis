{
  "nbformat": 4,
  "nbformat_minor": 0,
  "metadata": {
    "colab": {
      "provenance": []
    },
    "kernelspec": {
      "name": "python3",
      "display_name": "Python 3"
    },
    "language_info": {
      "name": "python"
    }
  },
  "cells": [
    {
      "cell_type": "markdown",
      "metadata": {
        "id": "634bef71"
      },
      "source": [
        "# Task\n",
        "Create a Jupyter notebook that visualizes deforestation data using matplotlib or seaborn, producing at least two different types of visualizations (e.g., line graph for deforestation rate over time, and a heatmap showing areas of significant change). The notebook should include markdown cells describing the data and findings. Additionally, create a public GitHub repository containing the notebook and a README file explaining the project and execution. Use a public satellite imagery dataset from platforms like Kaggle, such as \"Forest Change 2000-2020\". The project should be completed within an hour."
      ]
    },
    {
      "cell_type": "markdown",
      "metadata": {
        "id": "b114cbf4"
      },
      "source": [
        "## Data loading\n",
        "\n",
        "### Subtask:\n",
        "Load the deforestation dataset into a pandas DataFrame.\n"
      ]
    },
    {
      "cell_type": "markdown",
      "metadata": {
        "id": "6a10136c"
      },
      "source": [
        "**Reasoning**:\n",
        "Import the pandas library and load the deforestation dataset into a DataFrame, then display the first few rows.\n",
        "\n"
      ]
    },
    {
      "cell_type": "code",
      "metadata": {
        "colab": {
          "base_uri": "https://localhost:8080/",
          "height": 206
        },
        "id": "375c2229",
        "outputId": "70ebaad0-f817-42de-ff24-0be11ca0abf2"
      },
      "source": [
        "import pandas as pd\n",
        "\n",
        "df = pd.read_csv('Deforestation dataset.csv')\n",
        "display(df.head())"
      ],
      "execution_count": 28,
      "outputs": [
        {
          "output_type": "display_data",
          "data": {
            "text/plain": [
              "  iso3c  forests_2000  forests_2020  trend\n",
              "0   AFG           1.9           1.9    0.0\n",
              "1   ALB          28.1          28.8    2.5\n",
              "2   DZA           0.7           0.8   14.3\n",
              "3   ASM          88.7          85.7   -3.4\n",
              "4   AND          34.0          34.0    0.0"
            ],
            "text/html": [
              "\n",
              "  <div id=\"df-ab68df4e-8703-40b9-ba40-fa724340831b\" class=\"colab-df-container\">\n",
              "    <div>\n",
              "<style scoped>\n",
              "    .dataframe tbody tr th:only-of-type {\n",
              "        vertical-align: middle;\n",
              "    }\n",
              "\n",
              "    .dataframe tbody tr th {\n",
              "        vertical-align: top;\n",
              "    }\n",
              "\n",
              "    .dataframe thead th {\n",
              "        text-align: right;\n",
              "    }\n",
              "</style>\n",
              "<table border=\"1\" class=\"dataframe\">\n",
              "  <thead>\n",
              "    <tr style=\"text-align: right;\">\n",
              "      <th></th>\n",
              "      <th>iso3c</th>\n",
              "      <th>forests_2000</th>\n",
              "      <th>forests_2020</th>\n",
              "      <th>trend</th>\n",
              "    </tr>\n",
              "  </thead>\n",
              "  <tbody>\n",
              "    <tr>\n",
              "      <th>0</th>\n",
              "      <td>AFG</td>\n",
              "      <td>1.9</td>\n",
              "      <td>1.9</td>\n",
              "      <td>0.0</td>\n",
              "    </tr>\n",
              "    <tr>\n",
              "      <th>1</th>\n",
              "      <td>ALB</td>\n",
              "      <td>28.1</td>\n",
              "      <td>28.8</td>\n",
              "      <td>2.5</td>\n",
              "    </tr>\n",
              "    <tr>\n",
              "      <th>2</th>\n",
              "      <td>DZA</td>\n",
              "      <td>0.7</td>\n",
              "      <td>0.8</td>\n",
              "      <td>14.3</td>\n",
              "    </tr>\n",
              "    <tr>\n",
              "      <th>3</th>\n",
              "      <td>ASM</td>\n",
              "      <td>88.7</td>\n",
              "      <td>85.7</td>\n",
              "      <td>-3.4</td>\n",
              "    </tr>\n",
              "    <tr>\n",
              "      <th>4</th>\n",
              "      <td>AND</td>\n",
              "      <td>34.0</td>\n",
              "      <td>34.0</td>\n",
              "      <td>0.0</td>\n",
              "    </tr>\n",
              "  </tbody>\n",
              "</table>\n",
              "</div>\n",
              "    <div class=\"colab-df-buttons\">\n",
              "\n",
              "  <div class=\"colab-df-container\">\n",
              "    <button class=\"colab-df-convert\" onclick=\"convertToInteractive('df-ab68df4e-8703-40b9-ba40-fa724340831b')\"\n",
              "            title=\"Convert this dataframe to an interactive table.\"\n",
              "            style=\"display:none;\">\n",
              "\n",
              "  <svg xmlns=\"http://www.w3.org/2000/svg\" height=\"24px\" viewBox=\"0 -960 960 960\">\n",
              "    <path d=\"M120-120v-720h720v720H120Zm60-500h600v-160H180v160Zm220 220h160v-160H400v160Zm0 220h160v-160H400v160ZM180-400h160v-160H180v160Zm440 0h160v-160H620v160ZM180-180h160v-160H180v160Zm440 0h160v-160H620v160Z\"/>\n",
              "  </svg>\n",
              "    </button>\n",
              "\n",
              "  <style>\n",
              "    .colab-df-container {\n",
              "      display:flex;\n",
              "      gap: 12px;\n",
              "    }\n",
              "\n",
              "    .colab-df-convert {\n",
              "      background-color: #E8F0FE;\n",
              "      border: none;\n",
              "      border-radius: 50%;\n",
              "      cursor: pointer;\n",
              "      display: none;\n",
              "      fill: #1967D2;\n",
              "      height: 32px;\n",
              "      padding: 0 0 0 0;\n",
              "      width: 32px;\n",
              "    }\n",
              "\n",
              "    .colab-df-convert:hover {\n",
              "      background-color: #E2EBFA;\n",
              "      box-shadow: 0px 1px 2px rgba(60, 64, 67, 0.3), 0px 1px 3px 1px rgba(60, 64, 67, 0.15);\n",
              "      fill: #174EA6;\n",
              "    }\n",
              "\n",
              "    .colab-df-buttons div {\n",
              "      margin-bottom: 4px;\n",
              "    }\n",
              "\n",
              "    [theme=dark] .colab-df-convert {\n",
              "      background-color: #3B4455;\n",
              "      fill: #D2E3FC;\n",
              "    }\n",
              "\n",
              "    [theme=dark] .colab-df-convert:hover {\n",
              "      background-color: #434B5C;\n",
              "      box-shadow: 0px 1px 3px 1px rgba(0, 0, 0, 0.15);\n",
              "      filter: drop-shadow(0px 1px 2px rgba(0, 0, 0, 0.3));\n",
              "      fill: #FFFFFF;\n",
              "    }\n",
              "  </style>\n",
              "\n",
              "    <script>\n",
              "      const buttonEl =\n",
              "        document.querySelector('#df-ab68df4e-8703-40b9-ba40-fa724340831b button.colab-df-convert');\n",
              "      buttonEl.style.display =\n",
              "        google.colab.kernel.accessAllowed ? 'block' : 'none';\n",
              "\n",
              "      async function convertToInteractive(key) {\n",
              "        const element = document.querySelector('#df-ab68df4e-8703-40b9-ba40-fa724340831b');\n",
              "        const dataTable =\n",
              "          await google.colab.kernel.invokeFunction('convertToInteractive',\n",
              "                                                    [key], {});\n",
              "        if (!dataTable) return;\n",
              "\n",
              "        const docLinkHtml = 'Like what you see? Visit the ' +\n",
              "          '<a target=\"_blank\" href=https://colab.research.google.com/notebooks/data_table.ipynb>data table notebook</a>'\n",
              "          + ' to learn more about interactive tables.';\n",
              "        element.innerHTML = '';\n",
              "        dataTable['output_type'] = 'display_data';\n",
              "        await google.colab.output.renderOutput(dataTable, element);\n",
              "        const docLink = document.createElement('div');\n",
              "        docLink.innerHTML = docLinkHtml;\n",
              "        element.appendChild(docLink);\n",
              "      }\n",
              "    </script>\n",
              "  </div>\n",
              "\n",
              "\n",
              "    <div id=\"df-5d7f19ad-5dd0-441f-b8ea-111161879bd0\">\n",
              "      <button class=\"colab-df-quickchart\" onclick=\"quickchart('df-5d7f19ad-5dd0-441f-b8ea-111161879bd0')\"\n",
              "                title=\"Suggest charts\"\n",
              "                style=\"display:none;\">\n",
              "\n",
              "<svg xmlns=\"http://www.w3.org/2000/svg\" height=\"24px\"viewBox=\"0 0 24 24\"\n",
              "     width=\"24px\">\n",
              "    <g>\n",
              "        <path d=\"M19 3H5c-1.1 0-2 .9-2 2v14c0 1.1.9 2 2 2h14c1.1 0 2-.9 2-2V5c0-1.1-.9-2-2-2zM9 17H7v-7h2v7zm4 0h-2V7h2v10zm4 0h-2v-4h2v4z\"/>\n",
              "    </g>\n",
              "</svg>\n",
              "      </button>\n",
              "\n",
              "<style>\n",
              "  .colab-df-quickchart {\n",
              "      --bg-color: #E8F0FE;\n",
              "      --fill-color: #1967D2;\n",
              "      --hover-bg-color: #E2EBFA;\n",
              "      --hover-fill-color: #174EA6;\n",
              "      --disabled-fill-color: #AAA;\n",
              "      --disabled-bg-color: #DDD;\n",
              "  }\n",
              "\n",
              "  [theme=dark] .colab-df-quickchart {\n",
              "      --bg-color: #3B4455;\n",
              "      --fill-color: #D2E3FC;\n",
              "      --hover-bg-color: #434B5C;\n",
              "      --hover-fill-color: #FFFFFF;\n",
              "      --disabled-bg-color: #3B4455;\n",
              "      --disabled-fill-color: #666;\n",
              "  }\n",
              "\n",
              "  .colab-df-quickchart {\n",
              "    background-color: var(--bg-color);\n",
              "    border: none;\n",
              "    border-radius: 50%;\n",
              "    cursor: pointer;\n",
              "    display: none;\n",
              "    fill: var(--fill-color);\n",
              "    height: 32px;\n",
              "    padding: 0;\n",
              "    width: 32px;\n",
              "  }\n",
              "\n",
              "  .colab-df-quickchart:hover {\n",
              "    background-color: var(--hover-bg-color);\n",
              "    box-shadow: 0 1px 2px rgba(60, 64, 67, 0.3), 0 1px 3px 1px rgba(60, 64, 67, 0.15);\n",
              "    fill: var(--button-hover-fill-color);\n",
              "  }\n",
              "\n",
              "  .colab-df-quickchart-complete:disabled,\n",
              "  .colab-df-quickchart-complete:disabled:hover {\n",
              "    background-color: var(--disabled-bg-color);\n",
              "    fill: var(--disabled-fill-color);\n",
              "    box-shadow: none;\n",
              "  }\n",
              "\n",
              "  .colab-df-spinner {\n",
              "    border: 2px solid var(--fill-color);\n",
              "    border-color: transparent;\n",
              "    border-bottom-color: var(--fill-color);\n",
              "    animation:\n",
              "      spin 1s steps(1) infinite;\n",
              "  }\n",
              "\n",
              "  @keyframes spin {\n",
              "    0% {\n",
              "      border-color: transparent;\n",
              "      border-bottom-color: var(--fill-color);\n",
              "      border-left-color: var(--fill-color);\n",
              "    }\n",
              "    20% {\n",
              "      border-color: transparent;\n",
              "      border-left-color: var(--fill-color);\n",
              "      border-top-color: var(--fill-color);\n",
              "    }\n",
              "    30% {\n",
              "      border-color: transparent;\n",
              "      border-left-color: var(--fill-color);\n",
              "      border-top-color: var(--fill-color);\n",
              "      border-right-color: var(--fill-color);\n",
              "    }\n",
              "    40% {\n",
              "      border-color: transparent;\n",
              "      border-right-color: var(--fill-color);\n",
              "      border-top-color: var(--fill-color);\n",
              "    }\n",
              "    60% {\n",
              "      border-color: transparent;\n",
              "      border-right-color: var(--fill-color);\n",
              "    }\n",
              "    80% {\n",
              "      border-color: transparent;\n",
              "      border-right-color: var(--fill-color);\n",
              "      border-bottom-color: var(--fill-color);\n",
              "    }\n",
              "    90% {\n",
              "      border-color: transparent;\n",
              "      border-bottom-color: var(--fill-color);\n",
              "    }\n",
              "  }\n",
              "</style>\n",
              "\n",
              "      <script>\n",
              "        async function quickchart(key) {\n",
              "          const quickchartButtonEl =\n",
              "            document.querySelector('#' + key + ' button');\n",
              "          quickchartButtonEl.disabled = true;  // To prevent multiple clicks.\n",
              "          quickchartButtonEl.classList.add('colab-df-spinner');\n",
              "          try {\n",
              "            const charts = await google.colab.kernel.invokeFunction(\n",
              "                'suggestCharts', [key], {});\n",
              "          } catch (error) {\n",
              "            console.error('Error during call to suggestCharts:', error);\n",
              "          }\n",
              "          quickchartButtonEl.classList.remove('colab-df-spinner');\n",
              "          quickchartButtonEl.classList.add('colab-df-quickchart-complete');\n",
              "        }\n",
              "        (() => {\n",
              "          let quickchartButtonEl =\n",
              "            document.querySelector('#df-5d7f19ad-5dd0-441f-b8ea-111161879bd0 button');\n",
              "          quickchartButtonEl.style.display =\n",
              "            google.colab.kernel.accessAllowed ? 'block' : 'none';\n",
              "        })();\n",
              "      </script>\n",
              "    </div>\n",
              "\n",
              "    </div>\n",
              "  </div>\n"
            ],
            "application/vnd.google.colaboratory.intrinsic+json": {
              "type": "dataframe",
              "summary": "{\n  \"name\": \"display(df\",\n  \"rows\": 5,\n  \"fields\": [\n    {\n      \"column\": \"iso3c\",\n      \"properties\": {\n        \"dtype\": \"string\",\n        \"num_unique_values\": 5,\n        \"samples\": [\n          \"ALB\",\n          \"AND\",\n          \"DZA\"\n        ],\n        \"semantic_type\": \"\",\n        \"description\": \"\"\n      }\n    },\n    {\n      \"column\": \"forests_2000\",\n      \"properties\": {\n        \"dtype\": \"number\",\n        \"std\": 35.74593683203729,\n        \"min\": 0.7,\n        \"max\": 88.7,\n        \"num_unique_values\": 5,\n        \"samples\": [\n          28.1,\n          34.0,\n          0.7\n        ],\n        \"semantic_type\": \"\",\n        \"description\": \"\"\n      }\n    },\n    {\n      \"column\": \"forests_2020\",\n      \"properties\": {\n        \"dtype\": \"number\",\n        \"std\": 34.50323173269426,\n        \"min\": 0.8,\n        \"max\": 85.7,\n        \"num_unique_values\": 5,\n        \"samples\": [\n          28.8,\n          34.0,\n          0.8\n        ],\n        \"semantic_type\": \"\",\n        \"description\": \"\"\n      }\n    },\n    {\n      \"column\": \"trend\",\n      \"properties\": {\n        \"dtype\": \"number\",\n        \"std\": 6.8261995282880505,\n        \"min\": -3.4,\n        \"max\": 14.3,\n        \"num_unique_values\": 4,\n        \"samples\": [\n          2.5,\n          -3.4,\n          0.0\n        ],\n        \"semantic_type\": \"\",\n        \"description\": \"\"\n      }\n    }\n  ]\n}"
            }
          },
          "metadata": {}
        }
      ]
    },
    {
      "cell_type": "markdown",
      "metadata": {
        "id": "28181204"
      },
      "source": [
        "## Data cleaning\n",
        "\n",
        "### Subtask:\n",
        "Inspect the data, handle missing values, and convert data types if necessary.\n"
      ]
    },
    {
      "cell_type": "markdown",
      "metadata": {
        "id": "48cedda5"
      },
      "source": [
        "**Reasoning**:\n",
        "Display the data types and check for missing values to understand the data structure and identify any issues that need handling.\n",
        "\n"
      ]
    },
    {
      "cell_type": "code",
      "metadata": {
        "colab": {
          "base_uri": "https://localhost:8080/",
          "height": 418
        },
        "id": "12909ba5",
        "outputId": "cbdf4092-d5fc-4aac-aaf3-f66ad826bfb1"
      },
      "source": [
        "display(df.info())\n",
        "display(df.isnull().sum())"
      ],
      "execution_count": 17,
      "outputs": [
        {
          "output_type": "stream",
          "name": "stdout",
          "text": [
            "<class 'pandas.core.frame.DataFrame'>\n",
            "RangeIndex: 237 entries, 0 to 236\n",
            "Data columns (total 4 columns):\n",
            " #   Column        Non-Null Count  Dtype  \n",
            "---  ------        --------------  -----  \n",
            " 0   iso3c         237 non-null    object \n",
            " 1   forests_2000  237 non-null    float64\n",
            " 2   forests_2020  237 non-null    float64\n",
            " 3   trend         227 non-null    float64\n",
            "dtypes: float64(3), object(1)\n",
            "memory usage: 7.5+ KB\n"
          ]
        },
        {
          "output_type": "display_data",
          "data": {
            "text/plain": [
              "None"
            ]
          },
          "metadata": {}
        },
        {
          "output_type": "display_data",
          "data": {
            "text/plain": [
              "iso3c            0\n",
              "forests_2000     0\n",
              "forests_2020     0\n",
              "trend           10\n",
              "dtype: int64"
            ],
            "text/html": [
              "<div>\n",
              "<style scoped>\n",
              "    .dataframe tbody tr th:only-of-type {\n",
              "        vertical-align: middle;\n",
              "    }\n",
              "\n",
              "    .dataframe tbody tr th {\n",
              "        vertical-align: top;\n",
              "    }\n",
              "\n",
              "    .dataframe thead th {\n",
              "        text-align: right;\n",
              "    }\n",
              "</style>\n",
              "<table border=\"1\" class=\"dataframe\">\n",
              "  <thead>\n",
              "    <tr style=\"text-align: right;\">\n",
              "      <th></th>\n",
              "      <th>0</th>\n",
              "    </tr>\n",
              "  </thead>\n",
              "  <tbody>\n",
              "    <tr>\n",
              "      <th>iso3c</th>\n",
              "      <td>0</td>\n",
              "    </tr>\n",
              "    <tr>\n",
              "      <th>forests_2000</th>\n",
              "      <td>0</td>\n",
              "    </tr>\n",
              "    <tr>\n",
              "      <th>forests_2020</th>\n",
              "      <td>0</td>\n",
              "    </tr>\n",
              "    <tr>\n",
              "      <th>trend</th>\n",
              "      <td>10</td>\n",
              "    </tr>\n",
              "  </tbody>\n",
              "</table>\n",
              "</div><br><label><b>dtype:</b> int64</label>"
            ]
          },
          "metadata": {}
        }
      ]
    },
    {
      "cell_type": "markdown",
      "metadata": {
        "id": "5ba147fd"
      },
      "source": [
        "**Reasoning**:\n",
        "Handle the missing values in the 'trend' column by filling them with the mean, as this is a reasonable approach for a numerical column with a relatively small number of missing values.\n",
        "\n"
      ]
    },
    {
      "cell_type": "code",
      "metadata": {
        "colab": {
          "base_uri": "https://localhost:8080/",
          "height": 351
        },
        "id": "e2d5beaf",
        "outputId": "40013c61-7d95-4d51-b38d-8e4c05963b3a"
      },
      "source": [
        "df['trend'].fillna(df['trend'].mean(), inplace=True)\n",
        "display(df.isnull().sum())"
      ],
      "execution_count": 18,
      "outputs": [
        {
          "output_type": "stream",
          "name": "stderr",
          "text": [
            "/tmp/ipython-input-1682932940.py:1: FutureWarning: A value is trying to be set on a copy of a DataFrame or Series through chained assignment using an inplace method.\n",
            "The behavior will change in pandas 3.0. This inplace method will never work because the intermediate object on which we are setting values always behaves as a copy.\n",
            "\n",
            "For example, when doing 'df[col].method(value, inplace=True)', try using 'df.method({col: value}, inplace=True)' or df[col] = df[col].method(value) instead, to perform the operation inplace on the original object.\n",
            "\n",
            "\n",
            "  df['trend'].fillna(df['trend'].mean(), inplace=True)\n"
          ]
        },
        {
          "output_type": "display_data",
          "data": {
            "text/plain": [
              "iso3c           0\n",
              "forests_2000    0\n",
              "forests_2020    0\n",
              "trend           0\n",
              "dtype: int64"
            ],
            "text/html": [
              "<div>\n",
              "<style scoped>\n",
              "    .dataframe tbody tr th:only-of-type {\n",
              "        vertical-align: middle;\n",
              "    }\n",
              "\n",
              "    .dataframe tbody tr th {\n",
              "        vertical-align: top;\n",
              "    }\n",
              "\n",
              "    .dataframe thead th {\n",
              "        text-align: right;\n",
              "    }\n",
              "</style>\n",
              "<table border=\"1\" class=\"dataframe\">\n",
              "  <thead>\n",
              "    <tr style=\"text-align: right;\">\n",
              "      <th></th>\n",
              "      <th>0</th>\n",
              "    </tr>\n",
              "  </thead>\n",
              "  <tbody>\n",
              "    <tr>\n",
              "      <th>iso3c</th>\n",
              "      <td>0</td>\n",
              "    </tr>\n",
              "    <tr>\n",
              "      <th>forests_2000</th>\n",
              "      <td>0</td>\n",
              "    </tr>\n",
              "    <tr>\n",
              "      <th>forests_2020</th>\n",
              "      <td>0</td>\n",
              "    </tr>\n",
              "    <tr>\n",
              "      <th>trend</th>\n",
              "      <td>0</td>\n",
              "    </tr>\n",
              "  </tbody>\n",
              "</table>\n",
              "</div><br><label><b>dtype:</b> int64</label>"
            ]
          },
          "metadata": {}
        }
      ]
    },
    {
      "cell_type": "markdown",
      "metadata": {
        "id": "7714b217"
      },
      "source": [
        "## Data preparation for visualization\n",
        "\n",
        "### Subtask:\n",
        "Aggregate or transform the data as needed for creating the visualizations.\n"
      ]
    },
    {
      "cell_type": "markdown",
      "metadata": {
        "id": "aebf0814"
      },
      "source": [
        "**Reasoning**:\n",
        "Create a new column for forest change, sort the DataFrame by this new column, and select the top and bottom 10 rows to create a new DataFrame for visualization.\n",
        "\n"
      ]
    },
    {
      "cell_type": "code",
      "metadata": {
        "colab": {
          "base_uri": "https://localhost:8080/",
          "height": 677
        },
        "id": "e6bace62",
        "outputId": "cc4643db-db87-4cc4-cb90-ca669724dc99"
      },
      "source": [
        "df['forest_change'] = df['forests_2020'] - df['forests_2000']\n",
        "df_sorted = df.sort_values(by='forest_change')\n",
        "df_top_10 = df_sorted.tail(10)\n",
        "df_bottom_10 = df_sorted.head(10)\n",
        "df_top_bottom_change = pd.concat([df_bottom_10, df_top_10])\n",
        "display(df_top_bottom_change)"
      ],
      "execution_count": 19,
      "outputs": [
        {
          "output_type": "display_data",
          "data": {
            "text/plain": [
              "    iso3c  forests_2000  forests_2020  trend  forest_change\n",
              "161   PRY          57.9          40.5  -30.1          -17.4\n",
              "148   NIC          44.9          28.3  -37.0          -16.6\n",
              "154   MNP          69.5          53.0  -23.7          -16.5\n",
              "35    KHM          61.1          45.7  -25.2          -15.4\n",
              "76    GMB          35.3          24.0  -32.0          -11.3\n",
              "141   MMR          53.4          43.7  -18.2           -9.7\n",
              "223   TZA          60.6          51.6  -14.9           -9.0\n",
              "123   MWI          32.7          23.8  -27.2           -8.9\n",
              "21    BEN          36.7          27.8  -24.3           -8.9\n",
              "5     AGO          62.3          53.4  -14.3           -8.9\n",
              "42    CHN          18.8          23.3   23.9            4.5\n",
              "31    BGR          30.5          35.9   17.7            5.4\n",
              "23    BTN          65.5          71.4    9.0            5.9\n",
              "104   JAM          48.1          55.1   14.6            7.0\n",
              "70    FJI          55.1          62.4   13.2            7.3\n",
              "85    GUM          44.4          51.9   16.9            7.5\n",
              "167   PRI          48.4          56.0   15.7            7.6\n",
              "50    CUB          22.7          31.2   37.4            8.5\n",
              "230   VNM          37.9          46.7   23.2            8.8\n",
              "137   MNE          46.5          61.5   32.3           15.0"
            ],
            "text/html": [
              "\n",
              "  <div id=\"df-4cad1844-743c-4c2d-b0c8-2ec6380f6371\" class=\"colab-df-container\">\n",
              "    <div>\n",
              "<style scoped>\n",
              "    .dataframe tbody tr th:only-of-type {\n",
              "        vertical-align: middle;\n",
              "    }\n",
              "\n",
              "    .dataframe tbody tr th {\n",
              "        vertical-align: top;\n",
              "    }\n",
              "\n",
              "    .dataframe thead th {\n",
              "        text-align: right;\n",
              "    }\n",
              "</style>\n",
              "<table border=\"1\" class=\"dataframe\">\n",
              "  <thead>\n",
              "    <tr style=\"text-align: right;\">\n",
              "      <th></th>\n",
              "      <th>iso3c</th>\n",
              "      <th>forests_2000</th>\n",
              "      <th>forests_2020</th>\n",
              "      <th>trend</th>\n",
              "      <th>forest_change</th>\n",
              "    </tr>\n",
              "  </thead>\n",
              "  <tbody>\n",
              "    <tr>\n",
              "      <th>161</th>\n",
              "      <td>PRY</td>\n",
              "      <td>57.9</td>\n",
              "      <td>40.5</td>\n",
              "      <td>-30.1</td>\n",
              "      <td>-17.4</td>\n",
              "    </tr>\n",
              "    <tr>\n",
              "      <th>148</th>\n",
              "      <td>NIC</td>\n",
              "      <td>44.9</td>\n",
              "      <td>28.3</td>\n",
              "      <td>-37.0</td>\n",
              "      <td>-16.6</td>\n",
              "    </tr>\n",
              "    <tr>\n",
              "      <th>154</th>\n",
              "      <td>MNP</td>\n",
              "      <td>69.5</td>\n",
              "      <td>53.0</td>\n",
              "      <td>-23.7</td>\n",
              "      <td>-16.5</td>\n",
              "    </tr>\n",
              "    <tr>\n",
              "      <th>35</th>\n",
              "      <td>KHM</td>\n",
              "      <td>61.1</td>\n",
              "      <td>45.7</td>\n",
              "      <td>-25.2</td>\n",
              "      <td>-15.4</td>\n",
              "    </tr>\n",
              "    <tr>\n",
              "      <th>76</th>\n",
              "      <td>GMB</td>\n",
              "      <td>35.3</td>\n",
              "      <td>24.0</td>\n",
              "      <td>-32.0</td>\n",
              "      <td>-11.3</td>\n",
              "    </tr>\n",
              "    <tr>\n",
              "      <th>141</th>\n",
              "      <td>MMR</td>\n",
              "      <td>53.4</td>\n",
              "      <td>43.7</td>\n",
              "      <td>-18.2</td>\n",
              "      <td>-9.7</td>\n",
              "    </tr>\n",
              "    <tr>\n",
              "      <th>223</th>\n",
              "      <td>TZA</td>\n",
              "      <td>60.6</td>\n",
              "      <td>51.6</td>\n",
              "      <td>-14.9</td>\n",
              "      <td>-9.0</td>\n",
              "    </tr>\n",
              "    <tr>\n",
              "      <th>123</th>\n",
              "      <td>MWI</td>\n",
              "      <td>32.7</td>\n",
              "      <td>23.8</td>\n",
              "      <td>-27.2</td>\n",
              "      <td>-8.9</td>\n",
              "    </tr>\n",
              "    <tr>\n",
              "      <th>21</th>\n",
              "      <td>BEN</td>\n",
              "      <td>36.7</td>\n",
              "      <td>27.8</td>\n",
              "      <td>-24.3</td>\n",
              "      <td>-8.9</td>\n",
              "    </tr>\n",
              "    <tr>\n",
              "      <th>5</th>\n",
              "      <td>AGO</td>\n",
              "      <td>62.3</td>\n",
              "      <td>53.4</td>\n",
              "      <td>-14.3</td>\n",
              "      <td>-8.9</td>\n",
              "    </tr>\n",
              "    <tr>\n",
              "      <th>42</th>\n",
              "      <td>CHN</td>\n",
              "      <td>18.8</td>\n",
              "      <td>23.3</td>\n",
              "      <td>23.9</td>\n",
              "      <td>4.5</td>\n",
              "    </tr>\n",
              "    <tr>\n",
              "      <th>31</th>\n",
              "      <td>BGR</td>\n",
              "      <td>30.5</td>\n",
              "      <td>35.9</td>\n",
              "      <td>17.7</td>\n",
              "      <td>5.4</td>\n",
              "    </tr>\n",
              "    <tr>\n",
              "      <th>23</th>\n",
              "      <td>BTN</td>\n",
              "      <td>65.5</td>\n",
              "      <td>71.4</td>\n",
              "      <td>9.0</td>\n",
              "      <td>5.9</td>\n",
              "    </tr>\n",
              "    <tr>\n",
              "      <th>104</th>\n",
              "      <td>JAM</td>\n",
              "      <td>48.1</td>\n",
              "      <td>55.1</td>\n",
              "      <td>14.6</td>\n",
              "      <td>7.0</td>\n",
              "    </tr>\n",
              "    <tr>\n",
              "      <th>70</th>\n",
              "      <td>FJI</td>\n",
              "      <td>55.1</td>\n",
              "      <td>62.4</td>\n",
              "      <td>13.2</td>\n",
              "      <td>7.3</td>\n",
              "    </tr>\n",
              "    <tr>\n",
              "      <th>85</th>\n",
              "      <td>GUM</td>\n",
              "      <td>44.4</td>\n",
              "      <td>51.9</td>\n",
              "      <td>16.9</td>\n",
              "      <td>7.5</td>\n",
              "    </tr>\n",
              "    <tr>\n",
              "      <th>167</th>\n",
              "      <td>PRI</td>\n",
              "      <td>48.4</td>\n",
              "      <td>56.0</td>\n",
              "      <td>15.7</td>\n",
              "      <td>7.6</td>\n",
              "    </tr>\n",
              "    <tr>\n",
              "      <th>50</th>\n",
              "      <td>CUB</td>\n",
              "      <td>22.7</td>\n",
              "      <td>31.2</td>\n",
              "      <td>37.4</td>\n",
              "      <td>8.5</td>\n",
              "    </tr>\n",
              "    <tr>\n",
              "      <th>230</th>\n",
              "      <td>VNM</td>\n",
              "      <td>37.9</td>\n",
              "      <td>46.7</td>\n",
              "      <td>23.2</td>\n",
              "      <td>8.8</td>\n",
              "    </tr>\n",
              "    <tr>\n",
              "      <th>137</th>\n",
              "      <td>MNE</td>\n",
              "      <td>46.5</td>\n",
              "      <td>61.5</td>\n",
              "      <td>32.3</td>\n",
              "      <td>15.0</td>\n",
              "    </tr>\n",
              "  </tbody>\n",
              "</table>\n",
              "</div>\n",
              "    <div class=\"colab-df-buttons\">\n",
              "\n",
              "  <div class=\"colab-df-container\">\n",
              "    <button class=\"colab-df-convert\" onclick=\"convertToInteractive('df-4cad1844-743c-4c2d-b0c8-2ec6380f6371')\"\n",
              "            title=\"Convert this dataframe to an interactive table.\"\n",
              "            style=\"display:none;\">\n",
              "\n",
              "  <svg xmlns=\"http://www.w3.org/2000/svg\" height=\"24px\" viewBox=\"0 -960 960 960\">\n",
              "    <path d=\"M120-120v-720h720v720H120Zm60-500h600v-160H180v160Zm220 220h160v-160H400v160Zm0 220h160v-160H400v160ZM180-400h160v-160H180v160Zm440 0h160v-160H620v160ZM180-180h160v-160H180v160Zm440 0h160v-160H620v160Z\"/>\n",
              "  </svg>\n",
              "    </button>\n",
              "\n",
              "  <style>\n",
              "    .colab-df-container {\n",
              "      display:flex;\n",
              "      gap: 12px;\n",
              "    }\n",
              "\n",
              "    .colab-df-convert {\n",
              "      background-color: #E8F0FE;\n",
              "      border: none;\n",
              "      border-radius: 50%;\n",
              "      cursor: pointer;\n",
              "      display: none;\n",
              "      fill: #1967D2;\n",
              "      height: 32px;\n",
              "      padding: 0 0 0 0;\n",
              "      width: 32px;\n",
              "    }\n",
              "\n",
              "    .colab-df-convert:hover {\n",
              "      background-color: #E2EBFA;\n",
              "      box-shadow: 0px 1px 2px rgba(60, 64, 67, 0.3), 0px 1px 3px 1px rgba(60, 64, 67, 0.15);\n",
              "      fill: #174EA6;\n",
              "    }\n",
              "\n",
              "    .colab-df-buttons div {\n",
              "      margin-bottom: 4px;\n",
              "    }\n",
              "\n",
              "    [theme=dark] .colab-df-convert {\n",
              "      background-color: #3B4455;\n",
              "      fill: #D2E3FC;\n",
              "    }\n",
              "\n",
              "    [theme=dark] .colab-df-convert:hover {\n",
              "      background-color: #434B5C;\n",
              "      box-shadow: 0px 1px 3px 1px rgba(0, 0, 0, 0.15);\n",
              "      filter: drop-shadow(0px 1px 2px rgba(0, 0, 0, 0.3));\n",
              "      fill: #FFFFFF;\n",
              "    }\n",
              "  </style>\n",
              "\n",
              "    <script>\n",
              "      const buttonEl =\n",
              "        document.querySelector('#df-4cad1844-743c-4c2d-b0c8-2ec6380f6371 button.colab-df-convert');\n",
              "      buttonEl.style.display =\n",
              "        google.colab.kernel.accessAllowed ? 'block' : 'none';\n",
              "\n",
              "      async function convertToInteractive(key) {\n",
              "        const element = document.querySelector('#df-4cad1844-743c-4c2d-b0c8-2ec6380f6371');\n",
              "        const dataTable =\n",
              "          await google.colab.kernel.invokeFunction('convertToInteractive',\n",
              "                                                    [key], {});\n",
              "        if (!dataTable) return;\n",
              "\n",
              "        const docLinkHtml = 'Like what you see? Visit the ' +\n",
              "          '<a target=\"_blank\" href=https://colab.research.google.com/notebooks/data_table.ipynb>data table notebook</a>'\n",
              "          + ' to learn more about interactive tables.';\n",
              "        element.innerHTML = '';\n",
              "        dataTable['output_type'] = 'display_data';\n",
              "        await google.colab.output.renderOutput(dataTable, element);\n",
              "        const docLink = document.createElement('div');\n",
              "        docLink.innerHTML = docLinkHtml;\n",
              "        element.appendChild(docLink);\n",
              "      }\n",
              "    </script>\n",
              "  </div>\n",
              "\n",
              "\n",
              "    <div id=\"df-06d66ce4-84e5-49c0-ab92-af004aafce20\">\n",
              "      <button class=\"colab-df-quickchart\" onclick=\"quickchart('df-06d66ce4-84e5-49c0-ab92-af004aafce20')\"\n",
              "                title=\"Suggest charts\"\n",
              "                style=\"display:none;\">\n",
              "\n",
              "<svg xmlns=\"http://www.w3.org/2000/svg\" height=\"24px\"viewBox=\"0 0 24 24\"\n",
              "     width=\"24px\">\n",
              "    <g>\n",
              "        <path d=\"M19 3H5c-1.1 0-2 .9-2 2v14c0 1.1.9 2 2 2h14c1.1 0 2-.9 2-2V5c0-1.1-.9-2-2-2zM9 17H7v-7h2v7zm4 0h-2V7h2v10zm4 0h-2v-4h2v4z\"/>\n",
              "    </g>\n",
              "</svg>\n",
              "      </button>\n",
              "\n",
              "<style>\n",
              "  .colab-df-quickchart {\n",
              "      --bg-color: #E8F0FE;\n",
              "      --fill-color: #1967D2;\n",
              "      --hover-bg-color: #E2EBFA;\n",
              "      --hover-fill-color: #174EA6;\n",
              "      --disabled-fill-color: #AAA;\n",
              "      --disabled-bg-color: #DDD;\n",
              "  }\n",
              "\n",
              "  [theme=dark] .colab-df-quickchart {\n",
              "      --bg-color: #3B4455;\n",
              "      --fill-color: #D2E3FC;\n",
              "      --hover-bg-color: #434B5C;\n",
              "      --hover-fill-color: #FFFFFF;\n",
              "      --disabled-bg-color: #3B4455;\n",
              "      --disabled-fill-color: #666;\n",
              "  }\n",
              "\n",
              "  .colab-df-quickchart {\n",
              "    background-color: var(--bg-color);\n",
              "    border: none;\n",
              "    border-radius: 50%;\n",
              "    cursor: pointer;\n",
              "    display: none;\n",
              "    fill: var(--fill-color);\n",
              "    height: 32px;\n",
              "    padding: 0;\n",
              "    width: 32px;\n",
              "  }\n",
              "\n",
              "  .colab-df-quickchart:hover {\n",
              "    background-color: var(--hover-bg-color);\n",
              "    box-shadow: 0 1px 2px rgba(60, 64, 67, 0.3), 0 1px 3px 1px rgba(60, 64, 67, 0.15);\n",
              "    fill: var(--button-hover-fill-color);\n",
              "  }\n",
              "\n",
              "  .colab-df-quickchart-complete:disabled,\n",
              "  .colab-df-quickchart-complete:disabled:hover {\n",
              "    background-color: var(--disabled-bg-color);\n",
              "    fill: var(--disabled-fill-color);\n",
              "    box-shadow: none;\n",
              "  }\n",
              "\n",
              "  .colab-df-spinner {\n",
              "    border: 2px solid var(--fill-color);\n",
              "    border-color: transparent;\n",
              "    border-bottom-color: var(--fill-color);\n",
              "    animation:\n",
              "      spin 1s steps(1) infinite;\n",
              "  }\n",
              "\n",
              "  @keyframes spin {\n",
              "    0% {\n",
              "      border-color: transparent;\n",
              "      border-bottom-color: var(--fill-color);\n",
              "      border-left-color: var(--fill-color);\n",
              "    }\n",
              "    20% {\n",
              "      border-color: transparent;\n",
              "      border-left-color: var(--fill-color);\n",
              "      border-top-color: var(--fill-color);\n",
              "    }\n",
              "    30% {\n",
              "      border-color: transparent;\n",
              "      border-left-color: var(--fill-color);\n",
              "      border-top-color: var(--fill-color);\n",
              "      border-right-color: var(--fill-color);\n",
              "    }\n",
              "    40% {\n",
              "      border-color: transparent;\n",
              "      border-right-color: var(--fill-color);\n",
              "      border-top-color: var(--fill-color);\n",
              "    }\n",
              "    60% {\n",
              "      border-color: transparent;\n",
              "      border-right-color: var(--fill-color);\n",
              "    }\n",
              "    80% {\n",
              "      border-color: transparent;\n",
              "      border-right-color: var(--fill-color);\n",
              "      border-bottom-color: var(--fill-color);\n",
              "    }\n",
              "    90% {\n",
              "      border-color: transparent;\n",
              "      border-bottom-color: var(--fill-color);\n",
              "    }\n",
              "  }\n",
              "</style>\n",
              "\n",
              "      <script>\n",
              "        async function quickchart(key) {\n",
              "          const quickchartButtonEl =\n",
              "            document.querySelector('#' + key + ' button');\n",
              "          quickchartButtonEl.disabled = true;  // To prevent multiple clicks.\n",
              "          quickchartButtonEl.classList.add('colab-df-spinner');\n",
              "          try {\n",
              "            const charts = await google.colab.kernel.invokeFunction(\n",
              "                'suggestCharts', [key], {});\n",
              "          } catch (error) {\n",
              "            console.error('Error during call to suggestCharts:', error);\n",
              "          }\n",
              "          quickchartButtonEl.classList.remove('colab-df-spinner');\n",
              "          quickchartButtonEl.classList.add('colab-df-quickchart-complete');\n",
              "        }\n",
              "        (() => {\n",
              "          let quickchartButtonEl =\n",
              "            document.querySelector('#df-06d66ce4-84e5-49c0-ab92-af004aafce20 button');\n",
              "          quickchartButtonEl.style.display =\n",
              "            google.colab.kernel.accessAllowed ? 'block' : 'none';\n",
              "        })();\n",
              "      </script>\n",
              "    </div>\n",
              "\n",
              "  <div id=\"id_759e60f6-fd10-4c9f-9cb8-3e8d099e4afb\">\n",
              "    <style>\n",
              "      .colab-df-generate {\n",
              "        background-color: #E8F0FE;\n",
              "        border: none;\n",
              "        border-radius: 50%;\n",
              "        cursor: pointer;\n",
              "        display: none;\n",
              "        fill: #1967D2;\n",
              "        height: 32px;\n",
              "        padding: 0 0 0 0;\n",
              "        width: 32px;\n",
              "      }\n",
              "\n",
              "      .colab-df-generate:hover {\n",
              "        background-color: #E2EBFA;\n",
              "        box-shadow: 0px 1px 2px rgba(60, 64, 67, 0.3), 0px 1px 3px 1px rgba(60, 64, 67, 0.15);\n",
              "        fill: #174EA6;\n",
              "      }\n",
              "\n",
              "      [theme=dark] .colab-df-generate {\n",
              "        background-color: #3B4455;\n",
              "        fill: #D2E3FC;\n",
              "      }\n",
              "\n",
              "      [theme=dark] .colab-df-generate:hover {\n",
              "        background-color: #434B5C;\n",
              "        box-shadow: 0px 1px 3px 1px rgba(0, 0, 0, 0.15);\n",
              "        filter: drop-shadow(0px 1px 2px rgba(0, 0, 0, 0.3));\n",
              "        fill: #FFFFFF;\n",
              "      }\n",
              "    </style>\n",
              "    <button class=\"colab-df-generate\" onclick=\"generateWithVariable('df_top_bottom_change')\"\n",
              "            title=\"Generate code using this dataframe.\"\n",
              "            style=\"display:none;\">\n",
              "\n",
              "  <svg xmlns=\"http://www.w3.org/2000/svg\" height=\"24px\"viewBox=\"0 0 24 24\"\n",
              "       width=\"24px\">\n",
              "    <path d=\"M7,19H8.4L18.45,9,17,7.55,7,17.6ZM5,21V16.75L18.45,3.32a2,2,0,0,1,2.83,0l1.4,1.43a1.91,1.91,0,0,1,.58,1.4,1.91,1.91,0,0,1-.58,1.4L9.25,21ZM18.45,9,17,7.55Zm-12,3A5.31,5.31,0,0,0,4.9,8.1,5.31,5.31,0,0,0,1,6.5,5.31,5.31,0,0,0,4.9,4.9,5.31,5.31,0,0,0,6.5,1,5.31,5.31,0,0,0,8.1,4.9,5.31,5.31,0,0,0,12,6.5,5.46,5.46,0,0,0,6.5,12Z\"/>\n",
              "  </svg>\n",
              "    </button>\n",
              "    <script>\n",
              "      (() => {\n",
              "      const buttonEl =\n",
              "        document.querySelector('#id_759e60f6-fd10-4c9f-9cb8-3e8d099e4afb button.colab-df-generate');\n",
              "      buttonEl.style.display =\n",
              "        google.colab.kernel.accessAllowed ? 'block' : 'none';\n",
              "\n",
              "      buttonEl.onclick = () => {\n",
              "        google.colab.notebook.generateWithVariable('df_top_bottom_change');\n",
              "      }\n",
              "      })();\n",
              "    </script>\n",
              "  </div>\n",
              "\n",
              "    </div>\n",
              "  </div>\n"
            ],
            "application/vnd.google.colaboratory.intrinsic+json": {
              "type": "dataframe",
              "variable_name": "df_top_bottom_change",
              "summary": "{\n  \"name\": \"df_top_bottom_change\",\n  \"rows\": 20,\n  \"fields\": [\n    {\n      \"column\": \"iso3c\",\n      \"properties\": {\n        \"dtype\": \"string\",\n        \"num_unique_values\": 20,\n        \"samples\": [\n          \"PRY\",\n          \"CUB\",\n          \"GUM\"\n        ],\n        \"semantic_type\": \"\",\n        \"description\": \"\"\n      }\n    },\n    {\n      \"column\": \"forests_2000\",\n      \"properties\": {\n        \"dtype\": \"number\",\n        \"std\": 14.311617474514966,\n        \"min\": 18.8,\n        \"max\": 69.5,\n        \"num_unique_values\": 20,\n        \"samples\": [\n          57.9,\n          22.7,\n          44.4\n        ],\n        \"semantic_type\": \"\",\n        \"description\": \"\"\n      }\n    },\n    {\n      \"column\": \"forests_2020\",\n      \"properties\": {\n        \"dtype\": \"number\",\n        \"std\": 14.413349075733487,\n        \"min\": 23.3,\n        \"max\": 71.4,\n        \"num_unique_values\": 20,\n        \"samples\": [\n          40.5,\n          31.2,\n          51.9\n        ],\n        \"semantic_type\": \"\",\n        \"description\": \"\"\n      }\n    },\n    {\n      \"column\": \"trend\",\n      \"properties\": {\n        \"dtype\": \"number\",\n        \"std\": 24.448280533661904,\n        \"min\": -37.0,\n        \"max\": 37.4,\n        \"num_unique_values\": 20,\n        \"samples\": [\n          -30.1,\n          37.4,\n          16.9\n        ],\n        \"semantic_type\": \"\",\n        \"description\": \"\"\n      }\n    },\n    {\n      \"column\": \"forest_change\",\n      \"properties\": {\n        \"dtype\": \"number\",\n        \"std\": 10.76458496523132,\n        \"min\": -17.4,\n        \"max\": 15.0,\n        \"num_unique_values\": 19,\n        \"samples\": [\n          -17.4,\n          -9.699999999999996,\n          5.900000000000006\n        ],\n        \"semantic_type\": \"\",\n        \"description\": \"\"\n      }\n    }\n  ]\n}"
            }
          },
          "metadata": {}
        }
      ]
    },
    {
      "cell_type": "markdown",
      "metadata": {
        "id": "2b0e4f41"
      },
      "source": [
        "## Visualization 1\n",
        "\n",
        "### Subtask:\n",
        "Generate the first visualization (e.g., line graph for deforestation over time).\n"
      ]
    },
    {
      "cell_type": "markdown",
      "metadata": {
        "id": "6736291f"
      },
      "source": [
        "**Reasoning**:\n",
        "Generate a bar plot to visualize the forest change for the top and bottom 10 countries.\n",
        "\n"
      ]
    },
    {
      "cell_type": "code",
      "metadata": {
        "colab": {
          "base_uri": "https://localhost:8080/",
          "height": 465
        },
        "id": "fdfe05cb",
        "outputId": "37d5e6ab-4bfe-47dd-c32d-c86ead009909"
      },
      "source": [
        "import matplotlib.pyplot as plt\n",
        "import seaborn as sns\n",
        "\n",
        "plt.figure(figsize=(12, 6))\n",
        "sns.barplot(x='iso3c', y='forest_change', data=df_top_bottom_change)\n",
        "plt.xticks(rotation=45, ha='right')\n",
        "plt.title(\"Top 10 Countries with Largest Forest Change (Increase and Decrease) 2000-2020\")\n",
        "plt.ylabel(\"Forest Change (%)\")\n",
        "plt.tight_layout()\n",
        "plt.show()"
      ],
      "execution_count": 20,
      "outputs": [
        {
          "output_type": "display_data",
          "data": {
            "text/plain": [
              "<Figure size 1200x600 with 1 Axes>"
            ],
            "image/png": "[encoded data removed]"
          },
          "metadata": {}
        }
      ]
    },
    {
      "cell_type": "markdown",
      "metadata": {
        "id": "ce9b71a1"
      },
      "source": [
        "## Visualization 2\n",
        "\n",
        "### Subtask:\n",
        "Generate the second visualization (e.g., heatmap showing areas of significant change).\n"
      ]
    },
    {
      "cell_type": "markdown",
      "metadata": {
        "id": "ec8ceca1"
      },
      "source": [
        "**Reasoning**:\n",
        "Generate a heatmap using seaborn to visualize the specified columns for the top/bottom change countries and add annotations and a title.\n",
        "\n"
      ]
    },
    {
      "cell_type": "code",
      "metadata": {
        "colab": {
          "base_uri": "https://localhost:8080/",
          "height": 718
        },
        "id": "9fb6ca07",
        "outputId": "5e42e673-0480-449d-e043-1ca632c11ada"
      },
      "source": [
        "plt.figure(figsize=(10, 8))\n",
        "sns.heatmap(df_top_bottom_change.set_index('iso3c')[['forests_2000', 'forests_2020', 'trend', 'forest_change']], annot=True, cmap='viridis', fmt=\".1f\")\n",
        "plt.title(\"Heatmap of Forest Metrics for Top/Bottom Change Countries\")\n",
        "plt.xlabel(\"Forest Metric\")\n",
        "plt.ylabel(\"Country (iso3c)\")\n",
        "plt.show()"
      ],
      "execution_count": 21,
      "outputs": [
        {
          "output_type": "display_data",
          "data": {
            "text/plain": [
              "<Figure size 1000x800 with 2 Axes>"
            ],
            "image/png": "[encoded data removed]"
          },
          "metadata": {}
        }
      ]
    },
    {
      "cell_type": "markdown",
      "metadata": {
        "id": "2068b03c"
      },
      "source": [
        "## Add markdown explanations\n",
        "\n",
        "### Subtask:\n",
        "Include markdown cells to describe the data, visualizations, and findings.\n"
      ]
    },
    {
      "cell_type": "markdown",
      "metadata": {
        "id": "5f0f2db3"
      },
      "source": [
        "**Reasoning**:\n",
        "Add a markdown cell at the beginning of the notebook to provide a brief overview of the dataset, its source, and columns.\n",
        "\n"
      ]
    },
    {
      "cell_type": "code",
      "metadata": {
        "colab": {
          "base_uri": "https://localhost:8080/",
          "height": 268
        },
        "id": "d5c924e2",
        "outputId": "b33e3936-75b9-44d6-f64c-e0223ae73b39"
      },
      "source": [
        "%%markdown\n",
        "# Deforestation Analysis 2000-2020\n",
        "\n",
        "This notebook analyzes deforestation data from the \"Forest Change 2000-2020\" dataset, likely sourced from a platform like Kaggle. The dataset contains information on forest cover percentage in the years 2000 and 2020, the overall trend, and the absolute change in forest cover for various countries.\n",
        "\n",
        "The columns in the dataset are:\n",
        "- `iso3c`: The three-letter ISO country code.\n",
        "- `forests_2000`: Percentage of land covered by forests in 2000.\n",
        "- `forests_2020`: Percentage of land covered by forests in 2020.\n",
        "- `trend`: The percentage change in forest cover between 2000 and 2020.\n",
        "- `forest_change`: The absolute change in forest cover percentage between 2000 and 2020 (calculated as `forests_2020 - forests_2000`)."
      ],
      "execution_count": 22,
      "outputs": [
        {
          "output_type": "display_data",
          "data": {
            "text/plain": [
              "<IPython.core.display.Markdown object>"
            ],
            "text/markdown": "# Deforestation Analysis 2000-2020\n\nThis notebook analyzes deforestation data from the \"Forest Change 2000-2020\" dataset, likely sourced from a platform like Kaggle. The dataset contains information on forest cover percentage in the years 2000 and 2020, the overall trend, and the absolute change in forest cover for various countries.\n\nThe columns in the dataset are:\n- `iso3c`: The three-letter ISO country code.\n- `forests_2000`: Percentage of land covered by forests in 2000.\n- `forests_2020`: Percentage of land covered by forests in 2020.\n- `trend`: The percentage change in forest cover between 2000 and 2020.\n- `forest_change`: The absolute change in forest cover percentage between 2000 and 2020 (calculated as `forests_2020 - forests_2000`).\n"
          },
          "metadata": {}
        }
      ]
    },
    {
      "cell_type": "markdown",
      "metadata": {
        "id": "17ce9e2d"
      },
      "source": [
        "**Reasoning**:\n",
        "Add a markdown cell before the first visualization code block to explain the visualization and its purpose.\n",
        "\n"
      ]
    },
    {
      "cell_type": "code",
      "metadata": {
        "colab": {
          "base_uri": "https://localhost:8080/",
          "height": 125
        },
        "id": "8cbee3c6",
        "outputId": "b49772eb-d3a3-4602-ea35-b7b54b5a9296"
      },
      "source": [
        "%%markdown\n",
        "## Visualization 1: Forest Cover Change by Country (Top/Bottom 10)\n",
        "\n",
        "This bar plot visualizes the absolute change in forest cover percentage between 2000 and 2020 for the top 10 countries with the largest increase and the bottom 10 countries with the largest decrease in forest cover. This helps to quickly identify the countries that experienced the most significant positive and negative changes in forest area over the two decades."
      ],
      "execution_count": 23,
      "outputs": [
        {
          "output_type": "display_data",
          "data": {
            "text/plain": [
              "<IPython.core.display.Markdown object>"
            ],
            "text/markdown": "## Visualization 1: Forest Cover Change by Country (Top/Bottom 10)\n\nThis bar plot visualizes the absolute change in forest cover percentage between 2000 and 2020 for the top 10 countries with the largest increase and the bottom 10 countries with the largest decrease in forest cover. This helps to quickly identify the countries that experienced the most significant positive and negative changes in forest area over the two decades.\n"
          },
          "metadata": {}
        }
      ]
    },
    {
      "cell_type": "markdown",
      "metadata": {
        "id": "e2ecfb7c"
      },
      "source": [
        "**Reasoning**:\n",
        "Add a markdown cell after the first visualization code block to summarize the findings from the plot.\n",
        "\n"
      ]
    },
    {
      "cell_type": "code",
      "metadata": {
        "colab": {
          "base_uri": "https://localhost:8080/",
          "height": 104
        },
        "id": "f4a49683",
        "outputId": "f19748b7-7539-48f2-a909-72fb61c106ed"
      },
      "source": [
        "%%markdown\n",
        "**Findings from Visualization 1:**\n",
        "\n",
        "The bar plot clearly shows the countries with the most drastic changes in forest cover. We can observe both significant deforestation in some countries (represented by negative bars) and notable reforestation efforts in others (represented by positive bars). This visualization highlights the disparate trends in forest cover change across different nations."
      ],
      "execution_count": 24,
      "outputs": [
        {
          "output_type": "display_data",
          "data": {
            "text/plain": [
              "<IPython.core.display.Markdown object>"
            ],
            "text/markdown": "**Findings from Visualization 1:**\n\nThe bar plot clearly shows the countries with the most drastic changes in forest cover. We can observe both significant deforestation in some countries (represented by negative bars) and notable reforestation efforts in others (represented by positive bars). This visualization highlights the disparate trends in forest cover change across different nations.\n"
          },
          "metadata": {}
        }
      ]
    },
    {
      "cell_type": "markdown",
      "metadata": {
        "id": "9566cc1e"
      },
      "source": [
        "**Reasoning**:\n",
        "Add a markdown cell before the second visualization code block to explain the visualization and its purpose.\n",
        "\n"
      ]
    },
    {
      "cell_type": "code",
      "metadata": {
        "colab": {
          "base_uri": "https://localhost:8080/",
          "height": 142
        },
        "id": "842f578a",
        "outputId": "7598485b-01f3-473b-b075-801dd73ed12b"
      },
      "source": [
        "%%markdown\n",
        "## Visualization 2: Heatmap of Forest Metrics for Top/Bottom Change Countries\n",
        "\n",
        "This heatmap provides a visual summary of the key forest metrics (`forests_2000`, `forests_2020`, `trend`, and `forest_change`) for the countries that experienced the most significant positive and negative forest cover changes. This allows for a quick comparison of these metrics across these specific countries and helps to identify patterns or correlations between the initial forest cover, final forest cover, trend, and the absolute change."
      ],
      "execution_count": 25,
      "outputs": [
        {
          "output_type": "display_data",
          "data": {
            "text/plain": [
              "<IPython.core.display.Markdown object>"
            ],
            "text/markdown": "## Visualization 2: Heatmap of Forest Metrics for Top/Bottom Change Countries\n\nThis heatmap provides a visual summary of the key forest metrics (`forests_2000`, `forests_2020`, `trend`, and `forest_change`) for the countries that experienced the most significant positive and negative forest cover changes. This allows for a quick comparison of these metrics across these specific countries and helps to identify patterns or correlations between the initial forest cover, final forest cover, trend, and the absolute change.\n"
          },
          "metadata": {}
        }
      ]
    },
    {
      "cell_type": "markdown",
      "metadata": {
        "id": "a1fa12b6"
      },
      "source": [
        "**Reasoning**:\n",
        "Add a markdown cell after the second visualization code block to summarize the findings from the plot.\n",
        "\n"
      ]
    },
    {
      "cell_type": "code",
      "metadata": {
        "colab": {
          "base_uri": "https://localhost:8080/",
          "height": 122
        },
        "id": "6788c677",
        "outputId": "c431baa3-dc11-4367-f30d-9620e1ff1512"
      },
      "source": [
        "%%markdown\n",
        "**Findings from Visualization 2:**\n",
        "\n",
        "The heatmap provides a detailed look at the forest metrics for the countries with the most significant changes. We can see the initial and final forest cover percentages, the percentage trend, and the absolute change side-by-side. This allows for a more granular understanding of the data behind the bar plot and can reveal interesting relationships between the different metrics for these specific countries. For example, countries with high initial forest cover might experience larger absolute changes even with a smaller percentage trend, and vice versa."
      ],
      "execution_count": 26,
      "outputs": [
        {
          "output_type": "display_data",
          "data": {
            "text/plain": [
              "<IPython.core.display.Markdown object>"
            ],
            "text/markdown": "**Findings from Visualization 2:**\n\nThe heatmap provides a detailed look at the forest metrics for the countries with the most significant changes. We can see the initial and final forest cover percentages, the percentage trend, and the absolute change side-by-side. This allows for a more granular understanding of the data behind the bar plot and can reveal interesting relationships between the different metrics for these specific countries. For example, countries with high initial forest cover might experience larger absolute changes even with a smaller percentage trend, and vice versa.\n"
          },
          "metadata": {}
        }
      ]
    },
    {
      "cell_type": "markdown",
      "metadata": {
        "id": "f6174844"
      },
      "source": [
        "**Reasoning**:\n",
        "Add a final markdown cell to summarize the overall findings and conclusions from the analysis.\n",
        "\n"
      ]
    },
    {
      "cell_type": "code",
      "metadata": {
        "colab": {
          "base_uri": "https://localhost:8080/",
          "height": 177
        },
        "id": "e32baf9f",
        "outputId": "769d38da-848f-446c-9511-195246aefea9"
      },
      "source": [
        "%%markdown\n",
        "## Overall Summary and Conclusions\n",
        "\n",
        "This analysis of the \"Forest Change 2000-2020\" dataset revealed significant variations in forest cover trends across different countries. The bar plot highlighted the countries with the most substantial forest loss and gain. The heatmap provided a more detailed view of the underlying forest metrics for these countries of interest, allowing for a deeper understanding of the factors contributing to their forest cover changes. Overall, the analysis demonstrates that while some countries are experiencing significant deforestation, others are successfully implementing reforestation efforts, leading to an increase in forest cover. Further analysis could involve investigating the socioeconomic, environmental, and policy factors contributing to these diverse trends."
      ],
      "execution_count": 27,
      "outputs": [
        {
          "output_type": "display_data",
          "data": {
            "text/plain": [
              "<IPython.core.display.Markdown object>"
            ],
            "text/markdown": "## Overall Summary and Conclusions\n\nThis analysis of the \"Forest Change 2000-2020\" dataset revealed significant variations in forest cover trends across different countries. The bar plot highlighted the countries with the most substantial forest loss and gain. The heatmap provided a more detailed view of the underlying forest metrics for these countries of interest, allowing for a deeper understanding of the factors contributing to their forest cover changes. Overall, the analysis demonstrates that while some countries are experiencing significant deforestation, others are successfully implementing reforestation efforts, leading to an increase in forest cover. Further analysis could involve investigating the socioeconomic, environmental, and policy factors contributing to these diverse trends.\n"
          },
          "metadata": {}
        }
      ]
    },
    {
      "cell_type": "markdown",
      "metadata": {
        "id": "1eeb543a"
      },
      "source": [
        "## Summary:\n",
        "\n",
        "### Data Analysis Key Findings\n",
        "\n",
        "*   The dataset contains information on forest cover percentage in 2000 and 2020, as well as a `trend` value, for various countries.\n",
        "*   Initially, 10 missing values were found in the `trend` column, which were subsequently filled with the mean of the existing values.\n",
        "*   A new column, `forest_change`, was calculated as the difference between `forests_2020` and `forests_2000` to represent the absolute change in forest cover.\n",
        "*   The analysis focused on the top 10 countries with the largest increase and the bottom 10 countries with the largest decrease in `forest_change`.\n",
        "*   The bar plot visualization clearly shows the countries with the most significant forest cover loss (negative bars) and gain (positive bars) between 2000 and 2020.\n",
        "*   The heatmap visualization provides a detailed look at the `forests_2000`, `forests_2020`, `trend`, and `forest_change` metrics for these top and bottom countries, allowing for comparison of these metrics.\n",
        "\n",
        "### Insights or Next Steps\n",
        "\n",
        "*   Investigate the socioeconomic, environmental, and policy factors that might be contributing to the significant forest cover changes observed in the top/bottom countries.\n",
        "*   Analyze the `trend` column in more detail for all countries to understand the overall global pattern of forest cover change and identify any regional variations.\n"
      ]
    }
  ]
}